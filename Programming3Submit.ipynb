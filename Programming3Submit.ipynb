{
  "cells": [
    {
      "cell_type": "markdown",
      "metadata": {
        "id": "3RyanfjdHn1j"
      },
      "source": [
        "# Programming Assignment: Build a seq2seq model for machine translation.\n",
        "\n",
        "### Name: Chris Flanagan\n",
        "\n",
        "### Task: Translate [what-language?] to [what-language?]"
      ]
    },
    {
      "cell_type": "markdown",
      "metadata": {
        "id": "rWooq2D5Hn1k"
      },
      "source": [
        "## 0. You will do the following:\n",
        "\n",
        "1. Read and run my code.\n",
        "\n",
        "2. Complete the code in Section 1.1 and Section 4.2.\n",
        "\n",
        "    * Translation from **English** to **German** is not acceptable! Try another pair of languages.\n",
        "\n",
        "\n",
        "3. Make improvement: Using Bi-LSTM instead of LSTM.\n",
        "    \n",
        "4. Convert the .IPYNB file to .HTML file.\n",
        "\n",
        "    * The HTML file must contain the code and the output after execution.\n",
        "    \n",
        "    * Missing **the output after execution** will not be graded.\n",
        "\n",
        "\n",
        "5. Upload the .HTML file to your Google Drive, Dropbox, or Github repo. (If you submit the file to Google Drive or Dropbox, you must make the file \"open-access\". The delay caused by \"deny of access\" may result in late penalty.)\n",
        "\n",
        "6. On Canvas, submit the Google Drive/Dropbox/Github link to the HTML file.\n"
      ]
    },
    {
      "cell_type": "markdown",
      "metadata": {
        "id": "Vfx_a0xPHn1l"
      },
      "source": [
        "### Hint: \n",
        "\n",
        "To implement ```Bi-LSTM```, you will need the following code to build the encoder. Do NOT use Bi-LSTM for the decoder."
      ]
    },
    {
      "cell_type": "code",
      "execution_count": 1,
      "metadata": {
        "id": "_r_G1jHdHn1l"
      },
      "outputs": [],
      "source": [
        "# from keras.layers import Bidirectional, Concatenate, LSTM\n",
        "\n",
        "# encoder_bilstm = Bidirectional(LSTM(latent_dim, return_state=True, \n",
        "#                                   dropout=0.5, name='encoder_lstm'))\n",
        "# _, forward_h, forward_c, backward_h, backward_c = encoder_bilstm(encoder_inputs)\n",
        "\n",
        "# state_h = Concatenate()([forward_h, backward_h])\n",
        "# state_c = Concatenate()([forward_c, backward_c])"
      ]
    },
    {
      "cell_type": "code",
      "source": [
        "from google.colab import drive\n",
        "import os\n",
        "\n",
        "# Mount my Google Drrive\n",
        "drive.mount('/content/drive')\n",
        "\n",
        "# Go to the directory with the 583 data\n",
        "os.chdir('/content/drive/My Drive/Data')\n",
        "!pwd\n",
        "!ls"
      ],
      "metadata": {
        "colab": {
          "base_uri": "https://localhost:8080/"
        },
        "id": "cSz6TuvGIWcK",
        "outputId": "a66ccd91-cf1b-47f7-d5f1-c99e48c68e7f"
      },
      "execution_count": 2,
      "outputs": [
        {
          "output_type": "stream",
          "name": "stdout",
          "text": [
            "Mounted at /content/drive\n",
            "/content/drive/My Drive/Data\n",
            "decoder.pdf  encoder.pdf  ita.txt  model_training.pdf  seq2seq.h5\n"
          ]
        }
      ]
    },
    {
      "cell_type": "code",
      "source": [
        "from google.colab import drive\n",
        "drive.mount('/content/drive')"
      ],
      "metadata": {
        "id": "5YcTlV67JfWn",
        "colab": {
          "base_uri": "https://localhost:8080/"
        },
        "outputId": "ac8fb609-1b4d-4fa5-b7cd-be874e6f12f5"
      },
      "execution_count": 3,
      "outputs": [
        {
          "output_type": "stream",
          "name": "stdout",
          "text": [
            "Drive already mounted at /content/drive; to attempt to forcibly remount, call drive.mount(\"/content/drive\", force_remount=True).\n"
          ]
        }
      ]
    },
    {
      "cell_type": "markdown",
      "metadata": {
        "id": "IfFus4weHn1m"
      },
      "source": [
        "## 1. Data preparation\n",
        "\n",
        "1. Download data (e.g., \"deu-eng.zip\") from http://www.manythings.org/anki/\n",
        "2. Unzip the .ZIP file.\n",
        "3. Put the .TXT file (e.g., \"deu.txt\") in the directory \"./Data/\"."
      ]
    },
    {
      "cell_type": "markdown",
      "metadata": {
        "id": "kAsKvmViHn1m"
      },
      "source": [
        "### 1.1. Load and clean text\n"
      ]
    },
    {
      "cell_type": "code",
      "execution_count": 4,
      "metadata": {
        "id": "bnvBcyQvHn1m"
      },
      "outputs": [],
      "source": [
        "import re\n",
        "import string\n",
        "from unicodedata import normalize\n",
        "import numpy\n",
        "\n",
        "# load doc into memory\n",
        "def load_doc(filename):\n",
        "    # open the file as read only\n",
        "    file = open(filename, mode='rt', encoding='utf-8')\n",
        "    # read all text\n",
        "    text = file.read()\n",
        "    # close the file\n",
        "    file.close()\n",
        "    return text\n",
        "\n",
        "\n",
        "# split a loaded document into sentences\n",
        "def to_pairs(doc):\n",
        "    lines = doc.strip().split('\\n')\n",
        "    pairs = [line.split('\\t') for line in  lines]\n",
        "    return pairs\n",
        "\n",
        "def clean_data(lines):\n",
        "    cleaned = list()\n",
        "    # prepare regex for char filtering\n",
        "    re_print = re.compile('[^%s]' % re.escape(string.printable))\n",
        "    # prepare translation table for removing punctuation\n",
        "    table = str.maketrans('', '', string.punctuation)\n",
        "    for pair in lines:\n",
        "        clean_pair = list()\n",
        "        for line in pair:\n",
        "            # normalize unicode characters\n",
        "            line = normalize('NFD', line).encode('ascii', 'ignore')\n",
        "            line = line.decode('UTF-8')\n",
        "            # tokenize on white space\n",
        "            line = line.split()\n",
        "            # convert to lowercase\n",
        "            line = [word.lower() for word in line]\n",
        "            # remove punctuation from each token\n",
        "            line = [word.translate(table) for word in line]\n",
        "            # remove non-printable chars form each token\n",
        "            line = [re_print.sub('', w) for w in line]\n",
        "            # remove tokens with numbers in them\n",
        "            line = [word for word in line if word.isalpha()]\n",
        "            # store as string\n",
        "            clean_pair.append(' '.join(line))\n",
        "        cleaned.append(clean_pair)\n",
        "    return numpy.array(cleaned)"
      ]
    },
    {
      "cell_type": "markdown",
      "metadata": {
        "id": "xN8qhyNQHn1n"
      },
      "source": [
        "#### Fill the following blanks:"
      ]
    },
    {
      "cell_type": "code",
      "execution_count": 5,
      "metadata": {
        "id": "stYHGSgvHn1n"
      },
      "outputs": [],
      "source": [
        "# e.g., filename = 'Data/deu.txt'\n",
        "filename = 'ita.txt'\n",
        "\n",
        "# e.g., n_train = 20000\n",
        "n_train = 20000"
      ]
    },
    {
      "cell_type": "code",
      "execution_count": 6,
      "metadata": {
        "id": "zxZ1rHs5Hn1n"
      },
      "outputs": [],
      "source": [
        "# load dataset\n",
        "doc = load_doc(filename)\n",
        "\n",
        "# split into Language1-Language2 pairs\n",
        "pairs = to_pairs(doc)\n",
        "\n",
        "# clean sentences\n",
        "clean_pairs = clean_data(pairs)[0:n_train, :]"
      ]
    },
    {
      "cell_type": "code",
      "execution_count": 7,
      "metadata": {
        "id": "ZhoMwSgGHn1n",
        "colab": {
          "base_uri": "https://localhost:8080/"
        },
        "outputId": "fdeb1e9c-384e-42ce-9687-006f62d0ca82"
      },
      "outputs": [
        {
          "output_type": "stream",
          "name": "stdout",
          "text": [
            "[i know you] => [io vi conosco]\n",
            "[i left tom] => [ho lasciato tom]\n",
            "[i left tom] => [io ho lasciato tom]\n",
            "[i left tom] => [lasciai tom]\n",
            "[i left tom] => [io lasciai tom]\n",
            "[i like tom] => [mi piace tom]\n",
            "[i like tom] => [tom mi piace]\n",
            "[i like tom] => [a me piace tom]\n",
            "[i like art] => [mi piace larte]\n",
            "[i like art] => [a me piace larte]\n"
          ]
        }
      ],
      "source": [
        "for i in range(3000, 3010):\n",
        "    print('[' + clean_pairs[i, 0] + '] => [' + clean_pairs[i, 1] + ']')"
      ]
    },
    {
      "cell_type": "code",
      "execution_count": 8,
      "metadata": {
        "id": "gOIGqm-nHn1o",
        "colab": {
          "base_uri": "https://localhost:8080/"
        },
        "outputId": "dab6cc98-120d-4f15-fac9-e8752f14549d"
      },
      "outputs": [
        {
          "output_type": "stream",
          "name": "stdout",
          "text": [
            "Length of input_texts:  (20000,)\n",
            "Length of target_texts: (20000,)\n"
          ]
        }
      ],
      "source": [
        "input_texts = clean_pairs[:, 0]\n",
        "target_texts = ['\\t' + text + '\\n' for text in clean_pairs[:, 1]]\n",
        "\n",
        "print('Length of input_texts:  ' + str(input_texts.shape))\n",
        "print('Length of target_texts: ' + str(input_texts.shape))"
      ]
    },
    {
      "cell_type": "code",
      "execution_count": 9,
      "metadata": {
        "id": "x2Z__33MHn1o",
        "colab": {
          "base_uri": "https://localhost:8080/"
        },
        "outputId": "8ce7c126-82a5-4518-89ba-ea80207774e3"
      },
      "outputs": [
        {
          "output_type": "stream",
          "name": "stdout",
          "text": [
            "max length of input  sentences: 14\n",
            "max length of target sentences: 44\n"
          ]
        }
      ],
      "source": [
        "max_encoder_seq_length = max(len(line) for line in input_texts)\n",
        "max_decoder_seq_length = max(len(line) for line in target_texts)\n",
        "\n",
        "print('max length of input  sentences: %d' % (max_encoder_seq_length))\n",
        "print('max length of target sentences: %d' % (max_decoder_seq_length))"
      ]
    },
    {
      "cell_type": "markdown",
      "metadata": {
        "id": "hCMuEedSHn1o"
      },
      "source": [
        "**Remark:** To this end, you have two lists of sentences: input_texts and target_texts"
      ]
    },
    {
      "cell_type": "markdown",
      "metadata": {
        "id": "yoJNfw_WHn1o"
      },
      "source": [
        "## 2. Text processing\n",
        "\n",
        "### 2.1. Convert texts to sequences\n",
        "\n",
        "- Input: A list of $n$ sentences (with max length $t$).\n",
        "- It is represented by a $n\\times t$ matrix after the tokenization and zero-padding."
      ]
    },
    {
      "cell_type": "code",
      "execution_count": 10,
      "metadata": {
        "id": "C_I1GrhQHn1o",
        "colab": {
          "base_uri": "https://localhost:8080/"
        },
        "outputId": "bd2c3853-268b-468a-f214-15433886610c"
      },
      "outputs": [
        {
          "output_type": "stream",
          "name": "stdout",
          "text": [
            "shape of encoder_input_seq: (20000, 14)\n",
            "shape of input_token_index: 27\n",
            "shape of decoder_input_seq: (20000, 44)\n",
            "shape of target_token_index: 29\n"
          ]
        }
      ],
      "source": [
        "from keras.preprocessing.text import Tokenizer\n",
        "from keras_preprocessing.sequence import pad_sequences\n",
        "\n",
        "# encode and pad sequences\n",
        "def text2sequences(max_len, lines):\n",
        "    tokenizer = Tokenizer(char_level=True, filters='')\n",
        "    tokenizer.fit_on_texts(lines)\n",
        "    seqs = tokenizer.texts_to_sequences(lines)\n",
        "    seqs_pad = pad_sequences(seqs, maxlen=max_len, padding='post')\n",
        "    return seqs_pad, tokenizer.word_index\n",
        "\n",
        "\n",
        "encoder_input_seq, input_token_index = text2sequences(max_encoder_seq_length, \n",
        "                                                      input_texts)\n",
        "decoder_input_seq, target_token_index = text2sequences(max_decoder_seq_length, \n",
        "                                                       target_texts)\n",
        "\n",
        "print('shape of encoder_input_seq: ' + str(encoder_input_seq.shape))\n",
        "print('shape of input_token_index: ' + str(len(input_token_index)))\n",
        "print('shape of decoder_input_seq: ' + str(decoder_input_seq.shape))\n",
        "print('shape of target_token_index: ' + str(len(target_token_index)))"
      ]
    },
    {
      "cell_type": "code",
      "execution_count": 11,
      "metadata": {
        "id": "f9-HCud1Hn1p",
        "colab": {
          "base_uri": "https://localhost:8080/"
        },
        "outputId": "07cd3b25-ab08-40b3-bac0-102665cba6a4"
      },
      "outputs": [
        {
          "output_type": "stream",
          "name": "stdout",
          "text": [
            "num_encoder_tokens: 28\n",
            "num_decoder_tokens: 30\n"
          ]
        }
      ],
      "source": [
        "num_encoder_tokens = len(input_token_index) + 1\n",
        "num_decoder_tokens = len(target_token_index) + 1\n",
        "\n",
        "print('num_encoder_tokens: ' + str(num_encoder_tokens))\n",
        "print('num_decoder_tokens: ' + str(num_decoder_tokens))"
      ]
    },
    {
      "cell_type": "markdown",
      "metadata": {
        "id": "5IXw2I-UHn1p"
      },
      "source": [
        "**Remark:** To this end, the input language and target language texts are converted to 2 matrices. \n",
        "\n",
        "- Their number of rows are both n_train.\n",
        "- Their number of columns are respective max_encoder_seq_length and max_decoder_seq_length."
      ]
    },
    {
      "cell_type": "markdown",
      "metadata": {
        "id": "q2DHLx32Hn1p"
      },
      "source": [
        "The followings print a sentence and its representation as a sequence."
      ]
    },
    {
      "cell_type": "code",
      "execution_count": 12,
      "metadata": {
        "id": "Rit6okl5Hn1p",
        "colab": {
          "base_uri": "https://localhost:8080/",
          "height": 36
        },
        "outputId": "67673e71-b607-442e-c5c6-ceff686c707b"
      },
      "outputs": [
        {
          "output_type": "execute_result",
          "data": {
            "text/plain": [
              "'\\tche nessuno si muova\\n'"
            ],
            "application/vnd.google.colaboratory.intrinsic+json": {
              "type": "string"
            }
          },
          "metadata": {},
          "execution_count": 12
        }
      ],
      "source": [
        "target_texts[100]"
      ]
    },
    {
      "cell_type": "code",
      "execution_count": 13,
      "metadata": {
        "id": "FmjNke0cHn1p",
        "colab": {
          "base_uri": "https://localhost:8080/"
        },
        "outputId": "1036859b-3ef9-4cda-c2f4-413fafaea64d"
      },
      "outputs": [
        {
          "output_type": "execute_result",
          "data": {
            "text/plain": [
              "array([ 6, 14, 20,  5,  1,  9,  5, 10, 10, 15,  9,  2,  1, 10,  4,  1, 12,\n",
              "       15,  2, 18,  3,  7,  0,  0,  0,  0,  0,  0,  0,  0,  0,  0,  0,  0,\n",
              "        0,  0,  0,  0,  0,  0,  0,  0,  0,  0], dtype=int32)"
            ]
          },
          "metadata": {},
          "execution_count": 13
        }
      ],
      "source": [
        "decoder_input_seq[100, :]"
      ]
    },
    {
      "cell_type": "markdown",
      "metadata": {
        "id": "4F8aguw4Hn1p"
      },
      "source": [
        "## 2.2. One-hot encode\n",
        "\n",
        "- Input: A list of $n$ sentences (with max length $t$).\n",
        "- It is represented by a $n\\times t$ matrix after the tokenization and zero-padding.\n",
        "- It is represented by a $n\\times t \\times v$ tensor ($t$ is the number of unique chars) after the one-hot encoding."
      ]
    },
    {
      "cell_type": "code",
      "execution_count": 14,
      "metadata": {
        "id": "tEJTSEglHn1p",
        "colab": {
          "base_uri": "https://localhost:8080/"
        },
        "outputId": "00868d45-79ca-42e9-96b8-f526970039c2"
      },
      "outputs": [
        {
          "output_type": "stream",
          "name": "stdout",
          "text": [
            "(20000, 14, 28)\n",
            "(20000, 44, 30)\n"
          ]
        }
      ],
      "source": [
        "from keras.utils import to_categorical\n",
        "\n",
        "# one hot encode target sequence\n",
        "def onehot_encode(sequences, max_len, vocab_size):\n",
        "    n = len(sequences)\n",
        "    data = numpy.zeros((n, max_len, vocab_size))\n",
        "    for i in range(n):\n",
        "        data[i, :, :] = to_categorical(sequences[i], num_classes=vocab_size)\n",
        "    return data\n",
        "\n",
        "encoder_input_data = onehot_encode(encoder_input_seq, max_encoder_seq_length, num_encoder_tokens)\n",
        "decoder_input_data = onehot_encode(decoder_input_seq, max_decoder_seq_length, num_decoder_tokens)\n",
        "\n",
        "decoder_target_seq = numpy.zeros(decoder_input_seq.shape)\n",
        "decoder_target_seq[:, 0:-1] = decoder_input_seq[:, 1:]\n",
        "decoder_target_data = onehot_encode(decoder_target_seq, \n",
        "                                    max_decoder_seq_length, \n",
        "                                    num_decoder_tokens)\n",
        "\n",
        "print(encoder_input_data.shape)\n",
        "print(decoder_input_data.shape)"
      ]
    },
    {
      "cell_type": "markdown",
      "metadata": {
        "id": "ydNEN2gMHn1q"
      },
      "source": [
        "## 3. Build the networks (for training)\n",
        "\n",
        "- Build encoder, decoder, and connect the two modules to get \"model\". \n",
        "\n",
        "- Fit the model on the bilingual data to train the parameters in the encoder and decoder."
      ]
    },
    {
      "cell_type": "markdown",
      "metadata": {
        "id": "biOOBAylHn1q"
      },
      "source": [
        "### 3.1. Encoder network\n",
        "\n",
        "- Input:  one-hot encode of the input language\n",
        "\n",
        "- Return: \n",
        "\n",
        "    -- output (all the hidden states   $h_1, \\cdots , h_t$) are always discarded\n",
        "    \n",
        "    -- the final hidden state  $h_t$\n",
        "    \n",
        "    -- the final conveyor belt $c_t$"
      ]
    },
    {
      "cell_type": "code",
      "execution_count": 15,
      "metadata": {
        "id": "9DtkW3ttHn1q"
      },
      "outputs": [],
      "source": [
        "from keras.layers import Input, LSTM, Bidirectional, Concatenate\n",
        "from keras.models import Model\n",
        "\n",
        "latent_dim = 256\n",
        "\n",
        "# inputs of the encoder network\n",
        "encoder_inputs = Input(shape=(None, num_encoder_tokens), \n",
        "                       name='encoder_inputs')\n",
        "\n",
        "# Set the LSTM layer (bidirectional)\n",
        "encoder_lstm = Bidirectional(LSTM(latent_dim, return_state=True, \n",
        "                    dropout=0.5, name='encoder_lstm'))\n",
        "\n",
        "# Get forward and backward states & conveyor belts\n",
        "_, forward_h, forward_c, backward_h, backward_c = encoder_lstm(encoder_inputs)\n",
        "\n",
        "# Concatenate state & conveyor belt\n",
        "state_h = Concatenate()([forward_h, backward_h])\n",
        "state_c = Concatenate()([forward_c, backward_c])\n",
        "\n",
        "# Build the encoder network model\n",
        "encoder_model = Model(inputs=encoder_inputs, \n",
        "                      outputs=[state_h, state_c],\n",
        "                      name='encoder')"
      ]
    },
    {
      "cell_type": "markdown",
      "metadata": {
        "id": "SdP4pJwaHn1q"
      },
      "source": [
        "Print a summary and save the encoder network structure to \"./encoder.pdf\""
      ]
    },
    {
      "cell_type": "code",
      "execution_count": 16,
      "metadata": {
        "id": "XIgTM_RLHn1q",
        "colab": {
          "base_uri": "https://localhost:8080/"
        },
        "outputId": "c868abb9-c24a-4b17-9a0d-ba5b893c50c0"
      },
      "outputs": [
        {
          "output_type": "stream",
          "name": "stdout",
          "text": [
            "Model: \"encoder\"\n",
            "__________________________________________________________________________________________________\n",
            " Layer (type)                   Output Shape         Param #     Connected to                     \n",
            "==================================================================================================\n",
            " encoder_inputs (InputLayer)    [(None, None, 28)]   0           []                               \n",
            "                                                                                                  \n",
            " bidirectional (Bidirectional)  [(None, 512),        583680      ['encoder_inputs[0][0]']         \n",
            "                                 (None, 256),                                                     \n",
            "                                 (None, 256),                                                     \n",
            "                                 (None, 256),                                                     \n",
            "                                 (None, 256)]                                                     \n",
            "                                                                                                  \n",
            " concatenate (Concatenate)      (None, 512)          0           ['bidirectional[0][1]',          \n",
            "                                                                  'bidirectional[0][3]']          \n",
            "                                                                                                  \n",
            " concatenate_1 (Concatenate)    (None, 512)          0           ['bidirectional[0][2]',          \n",
            "                                                                  'bidirectional[0][4]']          \n",
            "                                                                                                  \n",
            "==================================================================================================\n",
            "Total params: 583,680\n",
            "Trainable params: 583,680\n",
            "Non-trainable params: 0\n",
            "__________________________________________________________________________________________________\n"
          ]
        }
      ],
      "source": [
        "from IPython.display import SVG\n",
        "from keras.utils.vis_utils import model_to_dot, plot_model\n",
        "\n",
        "SVG(model_to_dot(encoder_model, show_shapes=False).create(prog='dot', format='svg'))\n",
        "\n",
        "plot_model(\n",
        "    model=encoder_model, show_shapes=False,\n",
        "    to_file='encoder.pdf'\n",
        ")\n",
        "\n",
        "encoder_model.summary()"
      ]
    },
    {
      "cell_type": "markdown",
      "metadata": {
        "id": "Tx6w2FuuHn1q"
      },
      "source": [
        "### 3.2. Decoder network\n",
        "\n",
        "- Inputs:  \n",
        "\n",
        "    -- one-hot encode of the target language\n",
        "    \n",
        "    -- The initial hidden state $h_t$ \n",
        "    \n",
        "    -- The initial conveyor belt $c_t$ \n",
        "\n",
        "- Return: \n",
        "\n",
        "    -- output (all the hidden states) $h_1, \\cdots , h_t$\n",
        "\n",
        "    -- the final hidden state  $h_t$ (discarded in the training and used in the prediction)\n",
        "    \n",
        "    -- the final conveyor belt $c_t$ (discarded in the training and used in the prediction)"
      ]
    },
    {
      "cell_type": "code",
      "execution_count": 17,
      "metadata": {
        "id": "pT2wqnitHn1r"
      },
      "outputs": [],
      "source": [
        "from keras.layers import Input, LSTM, Dense\n",
        "from keras.models import Model\n",
        "\n",
        "# inputs of the decoder network\n",
        "# latent dimension must be multiplied by 2 for bidirectional LSTM\n",
        "latent_dim = latent_dim*2\n",
        "decoder_input_h = Input(shape=(latent_dim,), name='decoder_input_h')\n",
        "decoder_input_c = Input(shape=(latent_dim,), name='decoder_input_c')\n",
        "decoder_input_x = Input(shape=(None, num_decoder_tokens), name='decoder_input_x')\n",
        "\n",
        "# set the LSTM layer\n",
        "decoder_lstm = LSTM(latent_dim, return_sequences=True, \n",
        "                    return_state=True, dropout=0.5, name='decoder_lstm')\n",
        "decoder_lstm_outputs, state_h, state_c = decoder_lstm(decoder_input_x, \n",
        "                                                      initial_state=[decoder_input_h, decoder_input_c])\n",
        "\n",
        "# set the dense layer\n",
        "decoder_dense = Dense(num_decoder_tokens, activation='softmax', name='decoder_dense')\n",
        "decoder_outputs = decoder_dense(decoder_lstm_outputs)\n",
        "\n",
        "# build the decoder network model\n",
        "decoder_model = Model(inputs=[decoder_input_x, decoder_input_h, decoder_input_c],\n",
        "                      outputs=[decoder_outputs, state_h, state_c],\n",
        "                      name='decoder')"
      ]
    },
    {
      "cell_type": "markdown",
      "metadata": {
        "id": "tG56etyGHn1r"
      },
      "source": [
        "Print a summary and save the encoder network structure to \"./decoder.pdf\""
      ]
    },
    {
      "cell_type": "code",
      "execution_count": 18,
      "metadata": {
        "id": "o7oxdAYHHn1r",
        "colab": {
          "base_uri": "https://localhost:8080/"
        },
        "outputId": "749dada7-36df-4466-93de-dfbe42b806e5"
      },
      "outputs": [
        {
          "output_type": "stream",
          "name": "stdout",
          "text": [
            "Model: \"decoder\"\n",
            "__________________________________________________________________________________________________\n",
            " Layer (type)                   Output Shape         Param #     Connected to                     \n",
            "==================================================================================================\n",
            " decoder_input_x (InputLayer)   [(None, None, 30)]   0           []                               \n",
            "                                                                                                  \n",
            " decoder_input_h (InputLayer)   [(None, 512)]        0           []                               \n",
            "                                                                                                  \n",
            " decoder_input_c (InputLayer)   [(None, 512)]        0           []                               \n",
            "                                                                                                  \n",
            " decoder_lstm (LSTM)            [(None, None, 512),  1112064     ['decoder_input_x[0][0]',        \n",
            "                                 (None, 512),                     'decoder_input_h[0][0]',        \n",
            "                                 (None, 512)]                     'decoder_input_c[0][0]']        \n",
            "                                                                                                  \n",
            " decoder_dense (Dense)          (None, None, 30)     15390       ['decoder_lstm[0][0]']           \n",
            "                                                                                                  \n",
            "==================================================================================================\n",
            "Total params: 1,127,454\n",
            "Trainable params: 1,127,454\n",
            "Non-trainable params: 0\n",
            "__________________________________________________________________________________________________\n"
          ]
        }
      ],
      "source": [
        "from IPython.display import SVG\n",
        "from keras.utils.vis_utils import model_to_dot, plot_model\n",
        "\n",
        "SVG(model_to_dot(decoder_model, show_shapes=False).create(prog='dot', format='svg'))\n",
        "\n",
        "plot_model(\n",
        "    model=decoder_model, show_shapes=False,\n",
        "    to_file='decoder.pdf'\n",
        ")\n",
        "\n",
        "decoder_model.summary()"
      ]
    },
    {
      "cell_type": "markdown",
      "metadata": {
        "id": "1-uP7SrBHn1r"
      },
      "source": [
        "### 3.3. Connect the encoder and decoder"
      ]
    },
    {
      "cell_type": "code",
      "execution_count": 19,
      "metadata": {
        "id": "nVevgd-OHn1r"
      },
      "outputs": [],
      "source": [
        "# input layers\n",
        "encoder_input_x = Input(shape=(None, num_encoder_tokens), name='encoder_input_x')\n",
        "decoder_input_x = Input(shape=(None, num_decoder_tokens), name='decoder_input_x')\n",
        "\n",
        "# connect encoder to decoder\n",
        "encoder_final_states = encoder_model([encoder_input_x])\n",
        "decoder_lstm_output, _, _ = decoder_lstm(decoder_input_x, initial_state=encoder_final_states)\n",
        "decoder_pred = decoder_dense(decoder_lstm_output)\n",
        "\n",
        "model = Model(inputs=[encoder_input_x, decoder_input_x], \n",
        "              outputs=decoder_pred, \n",
        "              name='model_training')"
      ]
    },
    {
      "cell_type": "code",
      "execution_count": 20,
      "metadata": {
        "id": "4AQfPZkTHn1r",
        "colab": {
          "base_uri": "https://localhost:8080/"
        },
        "outputId": "1ee6a8a0-9428-4c10-86d0-868639341435"
      },
      "outputs": [
        {
          "output_type": "stream",
          "name": "stdout",
          "text": [
            "KerasTensor(type_spec=TensorSpec(shape=(None, 512), dtype=tf.float32, name=None), name='decoder_lstm/PartitionedCall:2', description=\"created by layer 'decoder_lstm'\")\n",
            "KerasTensor(type_spec=TensorSpec(shape=(None, 512), dtype=tf.float32, name='decoder_input_h'), name='decoder_input_h', description=\"created by layer 'decoder_input_h'\")\n"
          ]
        }
      ],
      "source": [
        "print(state_h)\n",
        "print(decoder_input_h)"
      ]
    },
    {
      "cell_type": "code",
      "execution_count": 21,
      "metadata": {
        "id": "XcAt4N0EHn1s",
        "colab": {
          "base_uri": "https://localhost:8080/"
        },
        "outputId": "c216d253-9b81-4c2b-f19f-731e269e0209"
      },
      "outputs": [
        {
          "output_type": "stream",
          "name": "stdout",
          "text": [
            "Model: \"model_training\"\n",
            "__________________________________________________________________________________________________\n",
            " Layer (type)                   Output Shape         Param #     Connected to                     \n",
            "==================================================================================================\n",
            " encoder_input_x (InputLayer)   [(None, None, 28)]   0           []                               \n",
            "                                                                                                  \n",
            " decoder_input_x (InputLayer)   [(None, None, 30)]   0           []                               \n",
            "                                                                                                  \n",
            " encoder (Functional)           [(None, 512),        583680      ['encoder_input_x[0][0]']        \n",
            "                                 (None, 512)]                                                     \n",
            "                                                                                                  \n",
            " decoder_lstm (LSTM)            [(None, None, 512),  1112064     ['decoder_input_x[0][0]',        \n",
            "                                 (None, 512),                     'encoder[0][0]',                \n",
            "                                 (None, 512)]                     'encoder[0][1]']                \n",
            "                                                                                                  \n",
            " decoder_dense (Dense)          (None, None, 30)     15390       ['decoder_lstm[1][0]']           \n",
            "                                                                                                  \n",
            "==================================================================================================\n",
            "Total params: 1,711,134\n",
            "Trainable params: 1,711,134\n",
            "Non-trainable params: 0\n",
            "__________________________________________________________________________________________________\n"
          ]
        }
      ],
      "source": [
        "from IPython.display import SVG\n",
        "from keras.utils.vis_utils import model_to_dot, plot_model\n",
        "\n",
        "SVG(model_to_dot(model, show_shapes=False).create(prog='dot', format='svg'))\n",
        "\n",
        "plot_model(\n",
        "    model=model, show_shapes=False,\n",
        "    to_file='model_training.pdf'\n",
        ")\n",
        "\n",
        "model.summary()"
      ]
    },
    {
      "cell_type": "markdown",
      "metadata": {
        "id": "QOf63J4NHn1s"
      },
      "source": [
        "### 3.5. Fit the model on the bilingual dataset\n",
        "\n",
        "- encoder_input_data: one-hot encode of the input language\n",
        "\n",
        "- decoder_input_data: one-hot encode of the input language\n",
        "\n",
        "- decoder_target_data: labels (left shift of decoder_input_data)\n",
        "\n",
        "- tune the hyper-parameters\n",
        "\n",
        "- stop when the validation loss stop decreasing."
      ]
    },
    {
      "cell_type": "code",
      "execution_count": 22,
      "metadata": {
        "id": "9udTTdfJHn1s",
        "colab": {
          "base_uri": "https://localhost:8080/"
        },
        "outputId": "345ab56d-1df6-4521-9d0e-1e0a884c29c0"
      },
      "outputs": [
        {
          "output_type": "stream",
          "name": "stdout",
          "text": [
            "shape of encoder_input_data(20000, 14, 28)\n",
            "shape of decoder_input_data(20000, 44, 30)\n",
            "shape of decoder_target_data(20000, 44, 30)\n"
          ]
        }
      ],
      "source": [
        "print('shape of encoder_input_data' + str(encoder_input_data.shape))\n",
        "print('shape of decoder_input_data' + str(decoder_input_data.shape))\n",
        "print('shape of decoder_target_data' + str(decoder_target_data.shape))"
      ]
    },
    {
      "cell_type": "code",
      "execution_count": 23,
      "metadata": {
        "id": "nJC77iAXHn1s",
        "colab": {
          "base_uri": "https://localhost:8080/"
        },
        "outputId": "8dae7b17-b206-4a64-da11-3d2d936d235a"
      },
      "outputs": [
        {
          "output_type": "stream",
          "name": "stdout",
          "text": [
            "Epoch 1/40\n",
            "250/250 [==============================] - 201s 786ms/step - loss: 1.0536 - val_loss: 0.8808\n",
            "Epoch 2/40\n",
            "250/250 [==============================] - 184s 734ms/step - loss: 0.8090 - val_loss: 0.7757\n",
            "Epoch 3/40\n",
            "250/250 [==============================] - 181s 725ms/step - loss: 0.7483 - val_loss: 0.7032\n",
            "Epoch 4/40\n",
            "250/250 [==============================] - 180s 722ms/step - loss: 0.7071 - val_loss: 0.6649\n",
            "Epoch 5/40\n",
            "250/250 [==============================] - 184s 738ms/step - loss: 0.6751 - val_loss: 0.6321\n",
            "Epoch 6/40\n",
            "250/250 [==============================] - 181s 723ms/step - loss: 0.6477 - val_loss: 0.6073\n",
            "Epoch 7/40\n",
            "250/250 [==============================] - 182s 727ms/step - loss: 0.6254 - val_loss: 0.6016\n",
            "Epoch 8/40\n",
            "250/250 [==============================] - 182s 730ms/step - loss: 0.6071 - val_loss: 0.5781\n",
            "Epoch 9/40\n",
            "250/250 [==============================] - 185s 739ms/step - loss: 0.5887 - val_loss: 0.5630\n",
            "Epoch 10/40\n",
            "250/250 [==============================] - 187s 749ms/step - loss: 0.5719 - val_loss: 0.5558\n",
            "Epoch 11/40\n",
            "250/250 [==============================] - 187s 747ms/step - loss: 0.5602 - val_loss: 0.5505\n",
            "Epoch 12/40\n",
            "250/250 [==============================] - 188s 751ms/step - loss: 0.5464 - val_loss: 0.5415\n",
            "Epoch 13/40\n",
            "250/250 [==============================] - 187s 748ms/step - loss: 0.5350 - val_loss: 0.5347\n",
            "Epoch 14/40\n",
            "250/250 [==============================] - 189s 754ms/step - loss: 0.5232 - val_loss: 0.5346\n",
            "Epoch 15/40\n",
            "250/250 [==============================] - 188s 753ms/step - loss: 0.5116 - val_loss: 0.5240\n",
            "Epoch 16/40\n",
            "250/250 [==============================] - 186s 744ms/step - loss: 0.5037 - val_loss: 0.5217\n",
            "Epoch 17/40\n",
            "250/250 [==============================] - 185s 741ms/step - loss: 0.4938 - val_loss: 0.5160\n",
            "Epoch 18/40\n",
            "250/250 [==============================] - 186s 744ms/step - loss: 0.4842 - val_loss: 0.5173\n",
            "Epoch 19/40\n",
            "250/250 [==============================] - 188s 751ms/step - loss: 0.4742 - val_loss: 0.5092\n",
            "Epoch 20/40\n",
            "250/250 [==============================] - 189s 756ms/step - loss: 0.4681 - val_loss: 0.5071\n",
            "Epoch 21/40\n",
            "250/250 [==============================] - 194s 774ms/step - loss: 0.4615 - val_loss: 0.5074\n",
            "Epoch 22/40\n",
            "250/250 [==============================] - 203s 812ms/step - loss: 0.4526 - val_loss: 0.5068\n",
            "Epoch 23/40\n",
            "250/250 [==============================] - 199s 798ms/step - loss: 0.4472 - val_loss: 0.5051\n",
            "Epoch 24/40\n",
            "250/250 [==============================] - 199s 796ms/step - loss: 0.4399 - val_loss: 0.5035\n",
            "Epoch 25/40\n",
            "250/250 [==============================] - 197s 788ms/step - loss: 0.4352 - val_loss: 0.5048\n",
            "Epoch 26/40\n",
            "250/250 [==============================] - 193s 772ms/step - loss: 0.4290 - val_loss: 0.5066\n",
            "Epoch 27/40\n",
            "250/250 [==============================] - 189s 755ms/step - loss: 0.4235 - val_loss: 0.5051\n",
            "Epoch 28/40\n",
            "250/250 [==============================] - 188s 752ms/step - loss: 0.4187 - val_loss: 0.4983\n",
            "Epoch 29/40\n",
            "250/250 [==============================] - 186s 745ms/step - loss: 0.4128 - val_loss: 0.4994\n",
            "Epoch 30/40\n",
            "250/250 [==============================] - 186s 743ms/step - loss: 0.4070 - val_loss: 0.5023\n",
            "Epoch 31/40\n",
            "250/250 [==============================] - 187s 749ms/step - loss: 0.4039 - val_loss: 0.5012\n",
            "Epoch 32/40\n",
            "250/250 [==============================] - 184s 735ms/step - loss: 0.3968 - val_loss: 0.4973\n",
            "Epoch 33/40\n",
            "250/250 [==============================] - 186s 745ms/step - loss: 0.3940 - val_loss: 0.5017\n",
            "Epoch 34/40\n",
            "250/250 [==============================] - 185s 740ms/step - loss: 0.3889 - val_loss: 0.5010\n",
            "Epoch 35/40\n",
            "250/250 [==============================] - 192s 768ms/step - loss: 0.3834 - val_loss: 0.5040\n",
            "Epoch 36/40\n",
            "250/250 [==============================] - 185s 740ms/step - loss: 0.3808 - val_loss: 0.5068\n",
            "Epoch 37/40\n",
            "250/250 [==============================] - 192s 768ms/step - loss: 0.3743 - val_loss: 0.5046\n",
            "Epoch 38/40\n",
            "250/250 [==============================] - 193s 771ms/step - loss: 0.3710 - val_loss: 0.5054\n",
            "Epoch 39/40\n",
            "250/250 [==============================] - 192s 769ms/step - loss: 0.3669 - val_loss: 0.5028\n",
            "Epoch 40/40\n",
            "250/250 [==============================] - 191s 764ms/step - loss: 0.3639 - val_loss: 0.5044\n"
          ]
        }
      ],
      "source": [
        "model.compile(optimizer='rmsprop', loss='categorical_crossentropy')\n",
        "\n",
        "model.fit([encoder_input_data, decoder_input_data],  # training data\n",
        "          decoder_target_data,                       # labels (left shift of the target sequences)\n",
        "          batch_size=64, epochs=40, validation_split=0.2)\n",
        "\n",
        "model.save('seq2seq.h5')"
      ]
    },
    {
      "cell_type": "markdown",
      "metadata": {
        "id": "44MI43sSHn1s"
      },
      "source": [
        "## 4. Make predictions\n",
        "\n",
        "\n",
        "### 4.1. Translate English to XXX\n",
        "\n",
        "1. Encoder read a sentence (source language) and output its final states, $h_t$ and $c_t$.\n",
        "2. Take the [star] sign \"\\t\" and the final state $h_t$ and $c_t$ as input and run the decoder.\n",
        "3. Get the new states and predicted probability distribution.\n",
        "4. sample a char from the predicted probability distribution\n",
        "5. take the sampled char and the new states as input and repeat the process (stop if reach the [stop] sign \"\\n\")."
      ]
    },
    {
      "cell_type": "code",
      "execution_count": 24,
      "metadata": {
        "id": "ELMz6aQiHn1s"
      },
      "outputs": [],
      "source": [
        "# Reverse-lookup token index to decode sequences back to something readable.\n",
        "reverse_input_char_index = dict((i, char) for char, i in input_token_index.items())\n",
        "reverse_target_char_index = dict((i, char) for char, i in target_token_index.items())"
      ]
    },
    {
      "cell_type": "code",
      "execution_count": 25,
      "metadata": {
        "id": "bAeqbPH1Hn1s"
      },
      "outputs": [],
      "source": [
        "def decode_sequence(input_seq):\n",
        "    states_value = encoder_model.predict(input_seq)\n",
        "\n",
        "    target_seq = numpy.zeros((1, 1, num_decoder_tokens))\n",
        "    target_seq[0, 0, target_token_index['\\t']] = 1.\n",
        "\n",
        "    stop_condition = False\n",
        "    decoded_sentence = ''\n",
        "    while not stop_condition:\n",
        "        output_tokens, h, c = decoder_model.predict([target_seq] + states_value)\n",
        "\n",
        "        # this line of code is greedy selection\n",
        "        # try to use multinomial sampling instead (with temperature)\n",
        "        sampled_token_index = numpy.argmax(output_tokens[0, -1, :])\n",
        "        \n",
        "        sampled_char = reverse_target_char_index[sampled_token_index]\n",
        "        decoded_sentence += sampled_char\n",
        "\n",
        "        if (sampled_char == '\\n' or\n",
        "           len(decoded_sentence) > max_decoder_seq_length):\n",
        "            stop_condition = True\n",
        "\n",
        "        target_seq = numpy.zeros((1, 1, num_decoder_tokens))\n",
        "        target_seq[0, 0, sampled_token_index] = 1.\n",
        "\n",
        "        states_value = [h, c]\n",
        "\n",
        "    return decoded_sentence\n"
      ]
    },
    {
      "cell_type": "code",
      "execution_count": 29,
      "metadata": {
        "id": "WhicS8jwHn1t",
        "colab": {
          "base_uri": "https://localhost:8080/"
        },
        "outputId": "07fdf230-2bfd-4085-ca5c-5799f86152c5"
      },
      "outputs": [
        {
          "output_type": "stream",
          "name": "stdout",
          "text": [
            "1/1 [==============================] - 0s 20ms/step\n",
            "1/1 [==============================] - 0s 19ms/step\n",
            "1/1 [==============================] - 0s 17ms/step\n",
            "1/1 [==============================] - 0s 17ms/step\n",
            "1/1 [==============================] - 0s 27ms/step\n",
            "1/1 [==============================] - 0s 17ms/step\n",
            "1/1 [==============================] - 0s 17ms/step\n",
            "1/1 [==============================] - 0s 19ms/step\n",
            "1/1 [==============================] - 0s 18ms/step\n",
            "1/1 [==============================] - 0s 21ms/step\n",
            "1/1 [==============================] - 0s 20ms/step\n",
            "1/1 [==============================] - 0s 17ms/step\n",
            "-\n",
            "English:        move over\n",
            "Italian (true):  lasci passare\n",
            "Italian (pred):  lasciatevi\n",
            "1/1 [==============================] - 0s 18ms/step\n",
            "1/1 [==============================] - 0s 17ms/step\n",
            "1/1 [==============================] - 0s 18ms/step\n",
            "1/1 [==============================] - 0s 37ms/step\n",
            "1/1 [==============================] - 0s 153ms/step\n",
            "1/1 [==============================] - 0s 32ms/step\n",
            "1/1 [==============================] - 0s 73ms/step\n",
            "1/1 [==============================] - 0s 63ms/step\n",
            "1/1 [==============================] - 0s 36ms/step\n",
            "1/1 [==============================] - 0s 43ms/step\n",
            "1/1 [==============================] - 0s 35ms/step\n",
            "1/1 [==============================] - 0s 31ms/step\n",
            "-\n",
            "English:        move over\n",
            "Italian (true):  lasciate passare\n",
            "Italian (pred):  lasciatevi\n",
            "1/1 [==============================] - 0s 52ms/step\n",
            "1/1 [==============================] - 0s 31ms/step\n",
            "1/1 [==============================] - 0s 52ms/step\n",
            "1/1 [==============================] - 0s 21ms/step\n",
            "1/1 [==============================] - 0s 19ms/step\n",
            "1/1 [==============================] - 0s 18ms/step\n",
            "1/1 [==============================] - 0s 17ms/step\n",
            "1/1 [==============================] - 0s 18ms/step\n",
            "1/1 [==============================] - 0s 19ms/step\n",
            "1/1 [==============================] - 0s 17ms/step\n",
            "1/1 [==============================] - 0s 23ms/step\n",
            "1/1 [==============================] - 0s 26ms/step\n",
            "1/1 [==============================] - 0s 18ms/step\n",
            "-\n",
            "English:        nice shot\n",
            "Italian (true):  bel colpo\n",
            "Italian (pred):  avvertatelo\n",
            "1/1 [==============================] - 0s 22ms/step\n",
            "1/1 [==============================] - 0s 18ms/step\n",
            "1/1 [==============================] - 0s 28ms/step\n",
            "1/1 [==============================] - 0s 24ms/step\n",
            "1/1 [==============================] - 0s 21ms/step\n",
            "1/1 [==============================] - 0s 18ms/step\n",
            "1/1 [==============================] - 0s 17ms/step\n",
            "1/1 [==============================] - 0s 19ms/step\n",
            "1/1 [==============================] - 0s 18ms/step\n",
            "1/1 [==============================] - 0s 19ms/step\n",
            "1/1 [==============================] - 0s 18ms/step\n",
            "1/1 [==============================] - 0s 18ms/step\n",
            "1/1 [==============================] - 0s 18ms/step\n",
            "-\n",
            "English:        nice shot\n",
            "Italian (true):  bel tiro\n",
            "Italian (pred):  avvertatelo\n",
            "1/1 [==============================] - 0s 18ms/step\n",
            "1/1 [==============================] - 0s 18ms/step\n",
            "1/1 [==============================] - 0s 18ms/step\n",
            "1/1 [==============================] - 0s 17ms/step\n",
            "1/1 [==============================] - 0s 17ms/step\n",
            "1/1 [==============================] - 0s 18ms/step\n",
            "1/1 [==============================] - 0s 18ms/step\n",
            "1/1 [==============================] - 0s 19ms/step\n",
            "1/1 [==============================] - 0s 19ms/step\n",
            "1/1 [==============================] - 0s 30ms/step\n",
            "1/1 [==============================] - 0s 18ms/step\n",
            "1/1 [==============================] - 0s 19ms/step\n",
            "1/1 [==============================] - 0s 19ms/step\n",
            "1/1 [==============================] - 0s 19ms/step\n",
            "-\n",
            "English:        of course\n",
            "Italian (true):  certo\n",
            "Italian (pred):  sono corfoso\n",
            "1/1 [==============================] - 0s 19ms/step\n",
            "1/1 [==============================] - 0s 20ms/step\n",
            "1/1 [==============================] - 0s 18ms/step\n",
            "1/1 [==============================] - 0s 26ms/step\n",
            "1/1 [==============================] - 0s 25ms/step\n",
            "1/1 [==============================] - 0s 22ms/step\n",
            "1/1 [==============================] - 0s 19ms/step\n",
            "1/1 [==============================] - 0s 22ms/step\n",
            "1/1 [==============================] - 0s 20ms/step\n",
            "1/1 [==============================] - 0s 18ms/step\n",
            "1/1 [==============================] - 0s 21ms/step\n",
            "1/1 [==============================] - 0s 18ms/step\n",
            "1/1 [==============================] - 0s 18ms/step\n",
            "1/1 [==============================] - 0s 21ms/step\n",
            "-\n",
            "English:        of course\n",
            "Italian (true):  certamente\n",
            "Italian (pred):  sono corfoso\n",
            "1/1 [==============================] - 0s 18ms/step\n",
            "1/1 [==============================] - 0s 19ms/step\n",
            "1/1 [==============================] - 0s 17ms/step\n",
            "1/1 [==============================] - 0s 18ms/step\n",
            "1/1 [==============================] - 0s 17ms/step\n",
            "1/1 [==============================] - 0s 19ms/step\n",
            "1/1 [==============================] - 0s 17ms/step\n",
            "1/1 [==============================] - 0s 24ms/step\n",
            "1/1 [==============================] - 0s 18ms/step\n",
            "1/1 [==============================] - 0s 24ms/step\n",
            "1/1 [==============================] - 0s 21ms/step\n",
            "1/1 [==============================] - 0s 22ms/step\n",
            "1/1 [==============================] - 0s 18ms/step\n",
            "1/1 [==============================] - 0s 19ms/step\n",
            "-\n",
            "English:        of course\n",
            "Italian (true):  certamente\n",
            "Italian (pred):  sono corfoso\n",
            "1/1 [==============================] - 0s 19ms/step\n",
            "1/1 [==============================] - 0s 20ms/step\n",
            "1/1 [==============================] - 0s 17ms/step\n",
            "1/1 [==============================] - 0s 18ms/step\n",
            "1/1 [==============================] - 0s 20ms/step\n",
            "1/1 [==============================] - 0s 17ms/step\n",
            "1/1 [==============================] - 0s 18ms/step\n",
            "1/1 [==============================] - 0s 17ms/step\n",
            "1/1 [==============================] - 0s 18ms/step\n",
            "1/1 [==============================] - 0s 19ms/step\n",
            "1/1 [==============================] - 0s 19ms/step\n",
            "1/1 [==============================] - 0s 21ms/step\n",
            "1/1 [==============================] - 0s 18ms/step\n",
            "-\n",
            "English:        oh please\n",
            "Italian (true):  oh per favore\n",
            "Italian (pred):  chi parlero\n",
            "1/1 [==============================] - 0s 17ms/step\n",
            "1/1 [==============================] - 0s 18ms/step\n",
            "1/1 [==============================] - 0s 19ms/step\n",
            "1/1 [==============================] - 0s 18ms/step\n",
            "1/1 [==============================] - 0s 20ms/step\n",
            "1/1 [==============================] - 0s 17ms/step\n",
            "1/1 [==============================] - 0s 18ms/step\n",
            "1/1 [==============================] - 0s 20ms/step\n",
            "1/1 [==============================] - 0s 25ms/step\n",
            "1/1 [==============================] - 0s 18ms/step\n",
            "1/1 [==============================] - 0s 17ms/step\n",
            "1/1 [==============================] - 0s 23ms/step\n",
            "1/1 [==============================] - 0s 20ms/step\n",
            "-\n",
            "English:        oh please\n",
            "Italian (true):  oh per piacere\n",
            "Italian (pred):  chi parlero\n",
            "1/1 [==============================] - 0s 27ms/step\n",
            "1/1 [==============================] - 0s 23ms/step\n",
            "1/1 [==============================] - 0s 18ms/step\n",
            "1/1 [==============================] - 0s 24ms/step\n",
            "1/1 [==============================] - 0s 18ms/step\n",
            "1/1 [==============================] - 0s 17ms/step\n",
            "1/1 [==============================] - 0s 17ms/step\n",
            "1/1 [==============================] - 0s 18ms/step\n",
            "1/1 [==============================] - 0s 18ms/step\n",
            "1/1 [==============================] - 0s 22ms/step\n",
            "1/1 [==============================] - 0s 18ms/step\n",
            "-\n",
            "English:        pardon me\n",
            "Italian (true):  mi scusi\n",
            "Italian (pred):  scusatemi\n",
            "1/1 [==============================] - 0s 18ms/step\n",
            "1/1 [==============================] - 0s 18ms/step\n",
            "1/1 [==============================] - 0s 18ms/step\n",
            "1/1 [==============================] - 0s 21ms/step\n",
            "1/1 [==============================] - 0s 17ms/step\n",
            "1/1 [==============================] - 0s 19ms/step\n",
            "1/1 [==============================] - 0s 19ms/step\n",
            "1/1 [==============================] - 0s 23ms/step\n",
            "1/1 [==============================] - 0s 21ms/step\n",
            "1/1 [==============================] - 0s 24ms/step\n",
            "1/1 [==============================] - 0s 18ms/step\n",
            "-\n",
            "English:        pardon me\n",
            "Italian (true):  scusami\n",
            "Italian (pred):  scusatemi\n",
            "1/1 [==============================] - 0s 24ms/step\n",
            "1/1 [==============================] - 0s 20ms/step\n",
            "1/1 [==============================] - 0s 19ms/step\n",
            "1/1 [==============================] - 0s 20ms/step\n",
            "1/1 [==============================] - 0s 17ms/step\n",
            "1/1 [==============================] - 0s 18ms/step\n",
            "1/1 [==============================] - 0s 21ms/step\n",
            "1/1 [==============================] - 0s 17ms/step\n",
            "1/1 [==============================] - 0s 20ms/step\n",
            "1/1 [==============================] - 0s 18ms/step\n",
            "1/1 [==============================] - 0s 17ms/step\n",
            "-\n",
            "English:        pardon me\n",
            "Italian (true):  scusatemi\n",
            "Italian (pred):  scusatemi\n",
            "1/1 [==============================] - 0s 24ms/step\n",
            "1/1 [==============================] - 0s 17ms/step\n",
            "1/1 [==============================] - 0s 19ms/step\n",
            "1/1 [==============================] - 0s 19ms/step\n",
            "1/1 [==============================] - 0s 18ms/step\n",
            "1/1 [==============================] - 0s 18ms/step\n",
            "1/1 [==============================] - 0s 21ms/step\n",
            "1/1 [==============================] - 0s 18ms/step\n",
            "1/1 [==============================] - 0s 17ms/step\n",
            "1/1 [==============================] - 0s 17ms/step\n",
            "1/1 [==============================] - 0s 17ms/step\n",
            "-\n",
            "English:        pipe down\n",
            "Italian (true):  silenzio\n",
            "Italian (pred):  silta miu\n",
            "1/1 [==============================] - 0s 35ms/step\n",
            "1/1 [==============================] - 0s 19ms/step\n",
            "1/1 [==============================] - 0s 20ms/step\n",
            "1/1 [==============================] - 0s 17ms/step\n",
            "1/1 [==============================] - 0s 17ms/step\n",
            "1/1 [==============================] - 0s 18ms/step\n",
            "1/1 [==============================] - 0s 17ms/step\n",
            "1/1 [==============================] - 0s 17ms/step\n",
            "1/1 [==============================] - 0s 18ms/step\n",
            "1/1 [==============================] - 0s 20ms/step\n",
            "1/1 [==============================] - 0s 18ms/step\n",
            "1/1 [==============================] - 0s 25ms/step\n",
            "1/1 [==============================] - 0s 18ms/step\n",
            "1/1 [==============================] - 0s 21ms/step\n",
            "1/1 [==============================] - 0s 19ms/step\n",
            "1/1 [==============================] - 0s 18ms/step\n",
            "1/1 [==============================] - 0s 17ms/step\n",
            "1/1 [==============================] - 0s 19ms/step\n",
            "1/1 [==============================] - 0s 18ms/step\n",
            "-\n",
            "English:        please go\n",
            "Italian (true):  per piacere vai\n",
            "Italian (pred):  per piacere vangi\n",
            "1/1 [==============================] - 0s 18ms/step\n",
            "1/1 [==============================] - 0s 18ms/step\n",
            "1/1 [==============================] - 0s 18ms/step\n",
            "1/1 [==============================] - 0s 20ms/step\n",
            "1/1 [==============================] - 0s 18ms/step\n",
            "1/1 [==============================] - 0s 17ms/step\n",
            "1/1 [==============================] - 0s 18ms/step\n",
            "1/1 [==============================] - 0s 22ms/step\n",
            "1/1 [==============================] - 0s 19ms/step\n",
            "1/1 [==============================] - 0s 19ms/step\n",
            "1/1 [==============================] - 0s 27ms/step\n",
            "1/1 [==============================] - 0s 23ms/step\n",
            "1/1 [==============================] - 0s 18ms/step\n",
            "1/1 [==============================] - 0s 18ms/step\n",
            "1/1 [==============================] - 0s 18ms/step\n",
            "1/1 [==============================] - 0s 16ms/step\n",
            "1/1 [==============================] - 0s 19ms/step\n",
            "1/1 [==============================] - 0s 18ms/step\n",
            "1/1 [==============================] - 0s 18ms/step\n",
            "-\n",
            "English:        please go\n",
            "Italian (true):  per favore vai\n",
            "Italian (pred):  per piacere vangi\n",
            "1/1 [==============================] - 0s 18ms/step\n",
            "1/1 [==============================] - 0s 18ms/step\n",
            "1/1 [==============================] - 0s 18ms/step\n",
            "1/1 [==============================] - 0s 19ms/step\n",
            "1/1 [==============================] - 0s 19ms/step\n",
            "1/1 [==============================] - 0s 18ms/step\n",
            "1/1 [==============================] - 0s 18ms/step\n",
            "1/1 [==============================] - 0s 19ms/step\n",
            "1/1 [==============================] - 0s 18ms/step\n",
            "1/1 [==============================] - 0s 22ms/step\n",
            "1/1 [==============================] - 0s 23ms/step\n",
            "1/1 [==============================] - 0s 20ms/step\n",
            "1/1 [==============================] - 0s 19ms/step\n",
            "1/1 [==============================] - 0s 22ms/step\n",
            "1/1 [==============================] - 0s 18ms/step\n",
            "1/1 [==============================] - 0s 22ms/step\n",
            "1/1 [==============================] - 0s 18ms/step\n",
            "1/1 [==============================] - 0s 23ms/step\n",
            "1/1 [==============================] - 0s 19ms/step\n",
            "-\n",
            "English:        please go\n",
            "Italian (true):  per piacere vada\n",
            "Italian (pred):  per piacere vangi\n",
            "1/1 [==============================] - 0s 19ms/step\n",
            "1/1 [==============================] - 0s 18ms/step\n",
            "1/1 [==============================] - 0s 20ms/step\n",
            "1/1 [==============================] - 0s 17ms/step\n",
            "1/1 [==============================] - 0s 19ms/step\n",
            "1/1 [==============================] - 0s 19ms/step\n",
            "1/1 [==============================] - 0s 26ms/step\n",
            "1/1 [==============================] - 0s 18ms/step\n",
            "1/1 [==============================] - 0s 27ms/step\n",
            "1/1 [==============================] - 0s 17ms/step\n",
            "1/1 [==============================] - 0s 22ms/step\n",
            "1/1 [==============================] - 0s 18ms/step\n",
            "1/1 [==============================] - 0s 19ms/step\n",
            "1/1 [==============================] - 0s 17ms/step\n",
            "1/1 [==============================] - 0s 24ms/step\n",
            "1/1 [==============================] - 0s 22ms/step\n",
            "1/1 [==============================] - 0s 20ms/step\n",
            "1/1 [==============================] - 0s 18ms/step\n",
            "1/1 [==============================] - 0s 17ms/step\n",
            "-\n",
            "English:        please go\n",
            "Italian (true):  per favore vada\n",
            "Italian (pred):  per piacere vangi\n",
            "1/1 [==============================] - 0s 18ms/step\n",
            "1/1 [==============================] - 0s 19ms/step\n",
            "1/1 [==============================] - 0s 19ms/step\n",
            "1/1 [==============================] - 0s 24ms/step\n",
            "1/1 [==============================] - 0s 18ms/step\n",
            "1/1 [==============================] - 0s 18ms/step\n",
            "1/1 [==============================] - 0s 18ms/step\n",
            "1/1 [==============================] - 0s 18ms/step\n",
            "1/1 [==============================] - 0s 17ms/step\n",
            "1/1 [==============================] - 0s 19ms/step\n",
            "1/1 [==============================] - 0s 19ms/step\n",
            "1/1 [==============================] - 0s 17ms/step\n",
            "1/1 [==============================] - 0s 18ms/step\n",
            "1/1 [==============================] - 0s 17ms/step\n",
            "1/1 [==============================] - 0s 18ms/step\n",
            "1/1 [==============================] - 0s 19ms/step\n",
            "1/1 [==============================] - 0s 19ms/step\n",
            "1/1 [==============================] - 0s 21ms/step\n",
            "1/1 [==============================] - 0s 23ms/step\n",
            "-\n",
            "English:        please go\n",
            "Italian (true):  per piacere andate\n",
            "Italian (pred):  per piacere vangi\n",
            "1/1 [==============================] - 0s 18ms/step\n",
            "1/1 [==============================] - 0s 18ms/step\n",
            "1/1 [==============================] - 0s 18ms/step\n",
            "1/1 [==============================] - 0s 18ms/step\n",
            "1/1 [==============================] - 0s 18ms/step\n",
            "1/1 [==============================] - 0s 18ms/step\n",
            "1/1 [==============================] - 0s 19ms/step\n",
            "1/1 [==============================] - 0s 21ms/step\n",
            "1/1 [==============================] - 0s 19ms/step\n",
            "1/1 [==============================] - 0s 20ms/step\n",
            "1/1 [==============================] - 0s 20ms/step\n",
            "1/1 [==============================] - 0s 22ms/step\n",
            "1/1 [==============================] - 0s 22ms/step\n",
            "1/1 [==============================] - 0s 23ms/step\n",
            "1/1 [==============================] - 0s 19ms/step\n",
            "1/1 [==============================] - 0s 21ms/step\n",
            "1/1 [==============================] - 0s 26ms/step\n",
            "1/1 [==============================] - 0s 19ms/step\n",
            "1/1 [==============================] - 0s 19ms/step\n",
            "-\n",
            "English:        please go\n",
            "Italian (true):  per favore andate\n",
            "Italian (pred):  per piacere vangi\n",
            "1/1 [==============================] - 0s 21ms/step\n",
            "1/1 [==============================] - 0s 21ms/step\n",
            "1/1 [==============================] - 0s 18ms/step\n",
            "1/1 [==============================] - 0s 18ms/step\n",
            "1/1 [==============================] - 0s 24ms/step\n",
            "1/1 [==============================] - 0s 18ms/step\n",
            "1/1 [==============================] - 0s 18ms/step\n",
            "1/1 [==============================] - 0s 19ms/step\n",
            "1/1 [==============================] - 0s 18ms/step\n",
            "1/1 [==============================] - 0s 27ms/step\n",
            "1/1 [==============================] - 0s 19ms/step\n",
            "1/1 [==============================] - 0s 19ms/step\n",
            "1/1 [==============================] - 0s 18ms/step\n",
            "1/1 [==============================] - 0s 19ms/step\n",
            "-\n",
            "English:        read this\n",
            "Italian (true):  leggi questo\n",
            "Italian (pred):  teggi questo\n"
          ]
        }
      ],
      "source": [
        "for seq_index in range(2100, 2120):\n",
        "    # Take one sequence (part of the training set)\n",
        "    # for trying out decoding.\n",
        "    input_seq = encoder_input_data[seq_index: seq_index + 1]\n",
        "    decoded_sentence = decode_sequence(input_seq)\n",
        "    print('-')\n",
        "    print('English:       ', input_texts[seq_index])\n",
        "    print('Italian (true): ', target_texts[seq_index][1:-1])\n",
        "    print('Italian (pred): ', decoded_sentence[0:-1])\n"
      ]
    },
    {
      "cell_type": "markdown",
      "metadata": {
        "id": "-7kslE1FHn1t"
      },
      "source": [
        "### 4.2. Translate an English sentence to the target language\n",
        "\n",
        "1. Tokenization\n",
        "2. One-hot encode\n",
        "3. Translate"
      ]
    },
    {
      "cell_type": "code",
      "execution_count": 30,
      "metadata": {
        "id": "6b2LeVjmHn1t",
        "colab": {
          "base_uri": "https://localhost:8080/"
        },
        "outputId": "0fd58417-6566-42e9-c3d4-c668f5995608"
      },
      "outputs": [
        {
          "output_type": "stream",
          "name": "stdout",
          "text": [
            "1/1 [==============================] - 0s 33ms/step\n",
            "1/1 [==============================] - 0s 35ms/step\n",
            "1/1 [==============================] - 0s 37ms/step\n",
            "1/1 [==============================] - 0s 32ms/step\n",
            "1/1 [==============================] - 0s 26ms/step\n",
            "1/1 [==============================] - 0s 28ms/step\n",
            "1/1 [==============================] - 0s 26ms/step\n",
            "1/1 [==============================] - 0s 25ms/step\n",
            "1/1 [==============================] - 0s 26ms/step\n",
            "1/1 [==============================] - 0s 30ms/step\n",
            "1/1 [==============================] - 0s 27ms/step\n",
            "1/1 [==============================] - 0s 27ms/step\n",
            "1/1 [==============================] - 0s 38ms/step\n",
            "1/1 [==============================] - 0s 27ms/step\n",
            "1/1 [==============================] - 0s 27ms/step\n",
            "1/1 [==============================] - 0s 29ms/step\n",
            "1/1 [==============================] - 0s 28ms/step\n",
            "1/1 [==============================] - 0s 29ms/step\n",
            "source sentence is: I love you\n",
            "translated sentence is: mi sentivo dullo\n",
            "\n"
          ]
        }
      ],
      "source": [
        "# example:\n",
        "input_sentence = 'I love you'\n",
        "\n",
        "input_sequence, _ = text2sequences(max_encoder_seq_length, [input_sentence])\n",
        "\n",
        "input_x = onehot_encode(input_sequence, max_encoder_seq_length, num_encoder_tokens)\n",
        "\n",
        "translated_sentence = decode_sequence(input_x)\n",
        "\n",
        "print('source sentence is: ' + input_sentence)\n",
        "print('translated sentence is: ' + translated_sentence)"
      ]
    },
    {
      "cell_type": "code",
      "execution_count": null,
      "metadata": {
        "id": "1XRq4jzRHn1t"
      },
      "outputs": [],
      "source": []
    }
  ],
  "metadata": {
    "kernelspec": {
      "display_name": "Python 3",
      "language": "python",
      "name": "python3"
    },
    "language_info": {
      "codemirror_mode": {
        "name": "ipython",
        "version": 3
      },
      "file_extension": ".py",
      "mimetype": "text/x-python",
      "name": "python",
      "nbconvert_exporter": "python",
      "pygments_lexer": "ipython3",
      "version": "3.8.3"
    },
    "colab": {
      "provenance": []
    }
  },
  "nbformat": 4,
  "nbformat_minor": 0
}